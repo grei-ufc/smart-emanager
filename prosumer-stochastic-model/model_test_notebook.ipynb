{
 "cells": [
  {
   "cell_type": "code",
   "execution_count": 5,
   "metadata": {},
   "outputs": [
    {
     "name": "stdout",
     "output_type": "stream",
     "text": [
      "Optimal solution finded: optimal\n"
     ]
    }
   ],
   "source": [
    "from run_stochastic_model import main \n",
    "import matplotlib.pyplot as plt\n",
    "\n",
    "config = dict()\n",
    "config['has_storage'] = True\n",
    "config['storage_rate'] = 0.2\n",
    "config['storage_size'] = 10.0\n",
    "config['max_energy_flow'] = config['storage_rate'] * config['storage_size']\n",
    "config['max_soc'] = config['storage_size']\n",
    "config['min_soc'] = 0.1 * config['storage_size']\n",
    "\n",
    "config['bilateral_price'] = 38.0\n",
    "config['bilateral_max'] = 5.0\n",
    "\n",
    "config['node_id'] = 32\n",
    "config['load_kw'] = 4.0\n",
    "config['gen_kw'] = 1.0\n",
    "\n",
    "# for i in range(1):\n",
    "#     config['node_id'] += 1\n",
    "#     model = main(data=config)\n",
    "\n",
    "\n",
    "\n",
    "model = main(data=config)"
   ]
  },
  {
   "cell_type": "code",
   "execution_count": 6,
   "metadata": {},
   "outputs": [
    {
     "data": {
      "image/png": "[encoded data removed]",
      "text/plain": [
       "<Figure size 640x480 with 1 Axes>"
      ]
     },
     "metadata": {},
     "output_type": "display_data"
    }
   ],
   "source": [
    "soc_data = list(model.soc.get_values().values())\n",
    "time_data = [t / 4 for t in range(len(soc_data))]\n",
    "plt.subplot(2, 2, 1)\n",
    "plt.step(time_data, soc_data)\n",
    "plt.title('soc')\n",
    "plt.grid(True)"
   ]
  },
  {
   "cell_type": "code",
   "execution_count": null,
   "metadata": {},
   "outputs": [],
   "source": []
  }
 ],
 "metadata": {
  "kernelspec": {
   "display_name": "Python (simtes-opf-2)",
   "language": "python",
   "name": "simtes-opf-2-kernel"
  },
  "language_info": {
   "codemirror_mode": {
    "name": "ipython",
    "version": 3
   },
   "file_extension": ".py",
   "mimetype": "text/x-python",
   "name": "python",
   "nbconvert_exporter": "python",
   "pygments_lexer": "ipython3",
   "version": "3.7.16"
  }
 },
 "nbformat": 4,
 "nbformat_minor": 2
}
